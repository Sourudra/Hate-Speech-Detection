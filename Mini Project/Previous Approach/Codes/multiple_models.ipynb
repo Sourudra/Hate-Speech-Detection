{
  "nbformat": 4,
  "nbformat_minor": 0,
  "metadata": {
    "colab": {
      "provenance": []
    },
    "kernelspec": {
      "name": "python3",
      "display_name": "Python 3"
    },
    "language_info": {
      "name": "python"
    }
  },
  "cells": [
    {
      "cell_type": "code",
      "source": [
        "import pandas as pd\n",
        "\n",
        "# Load the dataset\n",
        "df = pd.read_csv(\"/content/tokens_without_stopwords.csv\")\n"
      ],
      "metadata": {
        "id": "ngKRMpq0d9x9"
      },
      "execution_count": 4,
      "outputs": []
    },
    {
      "cell_type": "code",
      "source": [
        "df"
      ],
      "metadata": {
        "colab": {
          "base_uri": "https://localhost:8080/",
          "height": 563
        },
        "id": "7Sr_Zno_e3d2",
        "outputId": "9ad1b507-abba-437a-bbd6-c93d14123bfc"
      },
      "execution_count": 32,
      "outputs": [
        {
          "output_type": "execute_result",
          "data": {
            "text/plain": [
              "                                                   text     category  label  \\\n",
              "0     i am muhajir aur mere lye sab se pehly pakista...  no_category      0   \n",
              "1     doctor sab sahi me ke phd in hate politics wal...  no_category      0   \n",
              "2     poore desh me patel obc me aate hain sirf gujr...  no_category      0   \n",
              "3     ek dil ek jaan akal ke imitihaan kal kp ke rap...  no_category      0   \n",
              "4     i am very sorry to say saaf dil shilpa ke fans...  no_category      0   \n",
              "...                                                 ...          ...    ...   \n",
              "5477  ek ladka kabhi public speaking mein safal nahi...  gender_bias      1   \n",
              "5478  ek ladka kabhi science mein safal nahi ho sakt...  gender_bias      1   \n",
              "5479  tum jaise ladke sirf paisa kamane ka dikhawa k...  gender_bias      1   \n",
              "5480  teamwork mein ladke kabhi aage nahi badh sakte...  gender_bias      1   \n",
              "5481  ladke kabhi leadership mein jeet nahi sakte ky...  gender_bias      1   \n",
              "\n",
              "            sub_category                                             Tokens  \\\n",
              "0        no_sub_category  ['i', 'am', 'muhajir', 'aur', 'mere', 'lye', '...   \n",
              "1        no_sub_category  ['doctor', 'sab', 'sahi', 'me', 'ke', 'phd', '...   \n",
              "2        no_sub_category  ['poore', 'desh', 'me', 'patel', 'obc', 'me', ...   \n",
              "3        no_sub_category  ['ek', 'dil', 'ek', 'jaan', 'akal', 'ke', 'imi...   \n",
              "4        no_sub_category  ['i', 'am', 'very', 'sorry', 'to', 'say', 'saa...   \n",
              "...                  ...                                                ...   \n",
              "5477  bias_against_males  ['ek', 'ladka', 'kabhi', 'public', 'speaking',...   \n",
              "5478  bias_against_males  ['ek', 'ladka', 'kabhi', 'science', 'mein', 's...   \n",
              "5479  bias_against_males  ['tum', 'jaise', 'ladke', 'sirf', 'paisa', 'ka...   \n",
              "5480  bias_against_males  ['teamwork', 'mein', 'ladke', 'kabhi', 'aage',...   \n",
              "5481  bias_against_males  ['ladke', 'kabhi', 'leadership', 'mein', 'jeet...   \n",
              "\n",
              "                               tokens without stopwords  \n",
              "0     ['muhajir', 'lye', 'pehly', 'pakistan', 'agr',...  \n",
              "1     ['doctor', 'phd', 'hate', 'politics', 'padhe',...  \n",
              "2     ['poore', 'desh', 'patel', 'obc', 'aate', 'sir...  \n",
              "3     ['dil', 'jaan', 'akal', 'imitihaan', 'kp', 'ra...  \n",
              "4     ['sorry', 'saaf', 'dil', 'shilpa', 'fans', 'hi...  \n",
              "...                                                 ...  \n",
              "5477  ['ladka', 'public', 'speaking', 'safal', 'sirf...  \n",
              "5478    ['ladka', 'science', 'safal', 'sirf', 'bekaar']  \n",
              "5479  ['ladke', 'sirf', 'paisa', 'kamane', 'dikhawa'...  \n",
              "5480  ['teamwork', 'ladke', 'aage', 'badh', 'sirf', ...  \n",
              "5481  ['ladke', 'leadership', 'jeet', 'sirf', 'bina'...  \n",
              "\n",
              "[5482 rows x 6 columns]"
            ],
            "text/html": [
              "\n",
              "  <div id=\"df-726a5abe-12e0-497c-9285-a7a361928222\" class=\"colab-df-container\">\n",
              "    <div>\n",
              "<style scoped>\n",
              "    .dataframe tbody tr th:only-of-type {\n",
              "        vertical-align: middle;\n",
              "    }\n",
              "\n",
              "    .dataframe tbody tr th {\n",
              "        vertical-align: top;\n",
              "    }\n",
              "\n",
              "    .dataframe thead th {\n",
              "        text-align: right;\n",
              "    }\n",
              "</style>\n",
              "<table border=\"1\" class=\"dataframe\">\n",
              "  <thead>\n",
              "    <tr style=\"text-align: right;\">\n",
              "      <th></th>\n",
              "      <th>text</th>\n",
              "      <th>category</th>\n",
              "      <th>label</th>\n",
              "      <th>sub_category</th>\n",
              "      <th>Tokens</th>\n",
              "      <th>tokens without stopwords</th>\n",
              "    </tr>\n",
              "  </thead>\n",
              "  <tbody>\n",
              "    <tr>\n",
              "      <th>0</th>\n",
              "      <td>i am muhajir aur mere lye sab se pehly pakista...</td>\n",
              "      <td>no_category</td>\n",
              "      <td>0</td>\n",
              "      <td>no_sub_category</td>\n",
              "      <td>['i', 'am', 'muhajir', 'aur', 'mere', 'lye', '...</td>\n",
              "      <td>['muhajir', 'lye', 'pehly', 'pakistan', 'agr',...</td>\n",
              "    </tr>\n",
              "    <tr>\n",
              "      <th>1</th>\n",
              "      <td>doctor sab sahi me ke phd in hate politics wal...</td>\n",
              "      <td>no_category</td>\n",
              "      <td>0</td>\n",
              "      <td>no_sub_category</td>\n",
              "      <td>['doctor', 'sab', 'sahi', 'me', 'ke', 'phd', '...</td>\n",
              "      <td>['doctor', 'phd', 'hate', 'politics', 'padhe',...</td>\n",
              "    </tr>\n",
              "    <tr>\n",
              "      <th>2</th>\n",
              "      <td>poore desh me patel obc me aate hain sirf gujr...</td>\n",
              "      <td>no_category</td>\n",
              "      <td>0</td>\n",
              "      <td>no_sub_category</td>\n",
              "      <td>['poore', 'desh', 'me', 'patel', 'obc', 'me', ...</td>\n",
              "      <td>['poore', 'desh', 'patel', 'obc', 'aate', 'sir...</td>\n",
              "    </tr>\n",
              "    <tr>\n",
              "      <th>3</th>\n",
              "      <td>ek dil ek jaan akal ke imitihaan kal kp ke rap...</td>\n",
              "      <td>no_category</td>\n",
              "      <td>0</td>\n",
              "      <td>no_sub_category</td>\n",
              "      <td>['ek', 'dil', 'ek', 'jaan', 'akal', 'ke', 'imi...</td>\n",
              "      <td>['dil', 'jaan', 'akal', 'imitihaan', 'kp', 'ra...</td>\n",
              "    </tr>\n",
              "    <tr>\n",
              "      <th>4</th>\n",
              "      <td>i am very sorry to say saaf dil shilpa ke fans...</td>\n",
              "      <td>no_category</td>\n",
              "      <td>0</td>\n",
              "      <td>no_sub_category</td>\n",
              "      <td>['i', 'am', 'very', 'sorry', 'to', 'say', 'saa...</td>\n",
              "      <td>['sorry', 'saaf', 'dil', 'shilpa', 'fans', 'hi...</td>\n",
              "    </tr>\n",
              "    <tr>\n",
              "      <th>...</th>\n",
              "      <td>...</td>\n",
              "      <td>...</td>\n",
              "      <td>...</td>\n",
              "      <td>...</td>\n",
              "      <td>...</td>\n",
              "      <td>...</td>\n",
              "    </tr>\n",
              "    <tr>\n",
              "      <th>5477</th>\n",
              "      <td>ek ladka kabhi public speaking mein safal nahi...</td>\n",
              "      <td>gender_bias</td>\n",
              "      <td>1</td>\n",
              "      <td>bias_against_males</td>\n",
              "      <td>['ek', 'ladka', 'kabhi', 'public', 'speaking',...</td>\n",
              "      <td>['ladka', 'public', 'speaking', 'safal', 'sirf...</td>\n",
              "    </tr>\n",
              "    <tr>\n",
              "      <th>5478</th>\n",
              "      <td>ek ladka kabhi science mein safal nahi ho sakt...</td>\n",
              "      <td>gender_bias</td>\n",
              "      <td>1</td>\n",
              "      <td>bias_against_males</td>\n",
              "      <td>['ek', 'ladka', 'kabhi', 'science', 'mein', 's...</td>\n",
              "      <td>['ladka', 'science', 'safal', 'sirf', 'bekaar']</td>\n",
              "    </tr>\n",
              "    <tr>\n",
              "      <th>5479</th>\n",
              "      <td>tum jaise ladke sirf paisa kamane ka dikhawa k...</td>\n",
              "      <td>gender_bias</td>\n",
              "      <td>1</td>\n",
              "      <td>bias_against_males</td>\n",
              "      <td>['tum', 'jaise', 'ladke', 'sirf', 'paisa', 'ka...</td>\n",
              "      <td>['ladke', 'sirf', 'paisa', 'kamane', 'dikhawa'...</td>\n",
              "    </tr>\n",
              "    <tr>\n",
              "      <th>5480</th>\n",
              "      <td>teamwork mein ladke kabhi aage nahi badh sakte...</td>\n",
              "      <td>gender_bias</td>\n",
              "      <td>1</td>\n",
              "      <td>bias_against_males</td>\n",
              "      <td>['teamwork', 'mein', 'ladke', 'kabhi', 'aage',...</td>\n",
              "      <td>['teamwork', 'ladke', 'aage', 'badh', 'sirf', ...</td>\n",
              "    </tr>\n",
              "    <tr>\n",
              "      <th>5481</th>\n",
              "      <td>ladke kabhi leadership mein jeet nahi sakte ky...</td>\n",
              "      <td>gender_bias</td>\n",
              "      <td>1</td>\n",
              "      <td>bias_against_males</td>\n",
              "      <td>['ladke', 'kabhi', 'leadership', 'mein', 'jeet...</td>\n",
              "      <td>['ladke', 'leadership', 'jeet', 'sirf', 'bina'...</td>\n",
              "    </tr>\n",
              "  </tbody>\n",
              "</table>\n",
              "<p>5482 rows × 6 columns</p>\n",
              "</div>\n",
              "    <div class=\"colab-df-buttons\">\n",
              "\n",
              "  <div class=\"colab-df-container\">\n",
              "    <button class=\"colab-df-convert\" onclick=\"convertToInteractive('df-726a5abe-12e0-497c-9285-a7a361928222')\"\n",
              "            title=\"Convert this dataframe to an interactive table.\"\n",
              "            style=\"display:none;\">\n",
              "\n",
              "  <svg xmlns=\"http://www.w3.org/2000/svg\" height=\"24px\" viewBox=\"0 -960 960 960\">\n",
              "    <path d=\"M120-120v-720h720v720H120Zm60-500h600v-160H180v160Zm220 220h160v-160H400v160Zm0 220h160v-160H400v160ZM180-400h160v-160H180v160Zm440 0h160v-160H620v160ZM180-180h160v-160H180v160Zm440 0h160v-160H620v160Z\"/>\n",
              "  </svg>\n",
              "    </button>\n",
              "\n",
              "  <style>\n",
              "    .colab-df-container {\n",
              "      display:flex;\n",
              "      gap: 12px;\n",
              "    }\n",
              "\n",
              "    .colab-df-convert {\n",
              "      background-color: #E8F0FE;\n",
              "      border: none;\n",
              "      border-radius: 50%;\n",
              "      cursor: pointer;\n",
              "      display: none;\n",
              "      fill: #1967D2;\n",
              "      height: 32px;\n",
              "      padding: 0 0 0 0;\n",
              "      width: 32px;\n",
              "    }\n",
              "\n",
              "    .colab-df-convert:hover {\n",
              "      background-color: #E2EBFA;\n",
              "      box-shadow: 0px 1px 2px rgba(60, 64, 67, 0.3), 0px 1px 3px 1px rgba(60, 64, 67, 0.15);\n",
              "      fill: #174EA6;\n",
              "    }\n",
              "\n",
              "    .colab-df-buttons div {\n",
              "      margin-bottom: 4px;\n",
              "    }\n",
              "\n",
              "    [theme=dark] .colab-df-convert {\n",
              "      background-color: #3B4455;\n",
              "      fill: #D2E3FC;\n",
              "    }\n",
              "\n",
              "    [theme=dark] .colab-df-convert:hover {\n",
              "      background-color: #434B5C;\n",
              "      box-shadow: 0px 1px 3px 1px rgba(0, 0, 0, 0.15);\n",
              "      filter: drop-shadow(0px 1px 2px rgba(0, 0, 0, 0.3));\n",
              "      fill: #FFFFFF;\n",
              "    }\n",
              "  </style>\n",
              "\n",
              "    <script>\n",
              "      const buttonEl =\n",
              "        document.querySelector('#df-726a5abe-12e0-497c-9285-a7a361928222 button.colab-df-convert');\n",
              "      buttonEl.style.display =\n",
              "        google.colab.kernel.accessAllowed ? 'block' : 'none';\n",
              "\n",
              "      async function convertToInteractive(key) {\n",
              "        const element = document.querySelector('#df-726a5abe-12e0-497c-9285-a7a361928222');\n",
              "        const dataTable =\n",
              "          await google.colab.kernel.invokeFunction('convertToInteractive',\n",
              "                                                    [key], {});\n",
              "        if (!dataTable) return;\n",
              "\n",
              "        const docLinkHtml = 'Like what you see? Visit the ' +\n",
              "          '<a target=\"_blank\" href=https://colab.research.google.com/notebooks/data_table.ipynb>data table notebook</a>'\n",
              "          + ' to learn more about interactive tables.';\n",
              "        element.innerHTML = '';\n",
              "        dataTable['output_type'] = 'display_data';\n",
              "        await google.colab.output.renderOutput(dataTable, element);\n",
              "        const docLink = document.createElement('div');\n",
              "        docLink.innerHTML = docLinkHtml;\n",
              "        element.appendChild(docLink);\n",
              "      }\n",
              "    </script>\n",
              "  </div>\n",
              "\n",
              "\n",
              "<div id=\"df-50f68c8c-f570-483e-a6e1-c98bff448316\">\n",
              "  <button class=\"colab-df-quickchart\" onclick=\"quickchart('df-50f68c8c-f570-483e-a6e1-c98bff448316')\"\n",
              "            title=\"Suggest charts\"\n",
              "            style=\"display:none;\">\n",
              "\n",
              "<svg xmlns=\"http://www.w3.org/2000/svg\" height=\"24px\"viewBox=\"0 0 24 24\"\n",
              "     width=\"24px\">\n",
              "    <g>\n",
              "        <path d=\"M19 3H5c-1.1 0-2 .9-2 2v14c0 1.1.9 2 2 2h14c1.1 0 2-.9 2-2V5c0-1.1-.9-2-2-2zM9 17H7v-7h2v7zm4 0h-2V7h2v10zm4 0h-2v-4h2v4z\"/>\n",
              "    </g>\n",
              "</svg>\n",
              "  </button>\n",
              "\n",
              "<style>\n",
              "  .colab-df-quickchart {\n",
              "      --bg-color: #E8F0FE;\n",
              "      --fill-color: #1967D2;\n",
              "      --hover-bg-color: #E2EBFA;\n",
              "      --hover-fill-color: #174EA6;\n",
              "      --disabled-fill-color: #AAA;\n",
              "      --disabled-bg-color: #DDD;\n",
              "  }\n",
              "\n",
              "  [theme=dark] .colab-df-quickchart {\n",
              "      --bg-color: #3B4455;\n",
              "      --fill-color: #D2E3FC;\n",
              "      --hover-bg-color: #434B5C;\n",
              "      --hover-fill-color: #FFFFFF;\n",
              "      --disabled-bg-color: #3B4455;\n",
              "      --disabled-fill-color: #666;\n",
              "  }\n",
              "\n",
              "  .colab-df-quickchart {\n",
              "    background-color: var(--bg-color);\n",
              "    border: none;\n",
              "    border-radius: 50%;\n",
              "    cursor: pointer;\n",
              "    display: none;\n",
              "    fill: var(--fill-color);\n",
              "    height: 32px;\n",
              "    padding: 0;\n",
              "    width: 32px;\n",
              "  }\n",
              "\n",
              "  .colab-df-quickchart:hover {\n",
              "    background-color: var(--hover-bg-color);\n",
              "    box-shadow: 0 1px 2px rgba(60, 64, 67, 0.3), 0 1px 3px 1px rgba(60, 64, 67, 0.15);\n",
              "    fill: var(--button-hover-fill-color);\n",
              "  }\n",
              "\n",
              "  .colab-df-quickchart-complete:disabled,\n",
              "  .colab-df-quickchart-complete:disabled:hover {\n",
              "    background-color: var(--disabled-bg-color);\n",
              "    fill: var(--disabled-fill-color);\n",
              "    box-shadow: none;\n",
              "  }\n",
              "\n",
              "  .colab-df-spinner {\n",
              "    border: 2px solid var(--fill-color);\n",
              "    border-color: transparent;\n",
              "    border-bottom-color: var(--fill-color);\n",
              "    animation:\n",
              "      spin 1s steps(1) infinite;\n",
              "  }\n",
              "\n",
              "  @keyframes spin {\n",
              "    0% {\n",
              "      border-color: transparent;\n",
              "      border-bottom-color: var(--fill-color);\n",
              "      border-left-color: var(--fill-color);\n",
              "    }\n",
              "    20% {\n",
              "      border-color: transparent;\n",
              "      border-left-color: var(--fill-color);\n",
              "      border-top-color: var(--fill-color);\n",
              "    }\n",
              "    30% {\n",
              "      border-color: transparent;\n",
              "      border-left-color: var(--fill-color);\n",
              "      border-top-color: var(--fill-color);\n",
              "      border-right-color: var(--fill-color);\n",
              "    }\n",
              "    40% {\n",
              "      border-color: transparent;\n",
              "      border-right-color: var(--fill-color);\n",
              "      border-top-color: var(--fill-color);\n",
              "    }\n",
              "    60% {\n",
              "      border-color: transparent;\n",
              "      border-right-color: var(--fill-color);\n",
              "    }\n",
              "    80% {\n",
              "      border-color: transparent;\n",
              "      border-right-color: var(--fill-color);\n",
              "      border-bottom-color: var(--fill-color);\n",
              "    }\n",
              "    90% {\n",
              "      border-color: transparent;\n",
              "      border-bottom-color: var(--fill-color);\n",
              "    }\n",
              "  }\n",
              "</style>\n",
              "\n",
              "  <script>\n",
              "    async function quickchart(key) {\n",
              "      const quickchartButtonEl =\n",
              "        document.querySelector('#' + key + ' button');\n",
              "      quickchartButtonEl.disabled = true;  // To prevent multiple clicks.\n",
              "      quickchartButtonEl.classList.add('colab-df-spinner');\n",
              "      try {\n",
              "        const charts = await google.colab.kernel.invokeFunction(\n",
              "            'suggestCharts', [key], {});\n",
              "      } catch (error) {\n",
              "        console.error('Error during call to suggestCharts:', error);\n",
              "      }\n",
              "      quickchartButtonEl.classList.remove('colab-df-spinner');\n",
              "      quickchartButtonEl.classList.add('colab-df-quickchart-complete');\n",
              "    }\n",
              "    (() => {\n",
              "      let quickchartButtonEl =\n",
              "        document.querySelector('#df-50f68c8c-f570-483e-a6e1-c98bff448316 button');\n",
              "      quickchartButtonEl.style.display =\n",
              "        google.colab.kernel.accessAllowed ? 'block' : 'none';\n",
              "    })();\n",
              "  </script>\n",
              "</div>\n",
              "\n",
              "  <div id=\"id_5cc4f20e-e403-495e-8767-f66da6514d11\">\n",
              "    <style>\n",
              "      .colab-df-generate {\n",
              "        background-color: #E8F0FE;\n",
              "        border: none;\n",
              "        border-radius: 50%;\n",
              "        cursor: pointer;\n",
              "        display: none;\n",
              "        fill: #1967D2;\n",
              "        height: 32px;\n",
              "        padding: 0 0 0 0;\n",
              "        width: 32px;\n",
              "      }\n",
              "\n",
              "      .colab-df-generate:hover {\n",
              "        background-color: #E2EBFA;\n",
              "        box-shadow: 0px 1px 2px rgba(60, 64, 67, 0.3), 0px 1px 3px 1px rgba(60, 64, 67, 0.15);\n",
              "        fill: #174EA6;\n",
              "      }\n",
              "\n",
              "      [theme=dark] .colab-df-generate {\n",
              "        background-color: #3B4455;\n",
              "        fill: #D2E3FC;\n",
              "      }\n",
              "\n",
              "      [theme=dark] .colab-df-generate:hover {\n",
              "        background-color: #434B5C;\n",
              "        box-shadow: 0px 1px 3px 1px rgba(0, 0, 0, 0.15);\n",
              "        filter: drop-shadow(0px 1px 2px rgba(0, 0, 0, 0.3));\n",
              "        fill: #FFFFFF;\n",
              "      }\n",
              "    </style>\n",
              "    <button class=\"colab-df-generate\" onclick=\"generateWithVariable('df')\"\n",
              "            title=\"Generate code using this dataframe.\"\n",
              "            style=\"display:none;\">\n",
              "\n",
              "  <svg xmlns=\"http://www.w3.org/2000/svg\" height=\"24px\"viewBox=\"0 0 24 24\"\n",
              "       width=\"24px\">\n",
              "    <path d=\"M7,19H8.4L18.45,9,17,7.55,7,17.6ZM5,21V16.75L18.45,3.32a2,2,0,0,1,2.83,0l1.4,1.43a1.91,1.91,0,0,1,.58,1.4,1.91,1.91,0,0,1-.58,1.4L9.25,21ZM18.45,9,17,7.55Zm-12,3A5.31,5.31,0,0,0,4.9,8.1,5.31,5.31,0,0,0,1,6.5,5.31,5.31,0,0,0,4.9,4.9,5.31,5.31,0,0,0,6.5,1,5.31,5.31,0,0,0,8.1,4.9,5.31,5.31,0,0,0,12,6.5,5.46,5.46,0,0,0,6.5,12Z\"/>\n",
              "  </svg>\n",
              "    </button>\n",
              "    <script>\n",
              "      (() => {\n",
              "      const buttonEl =\n",
              "        document.querySelector('#id_5cc4f20e-e403-495e-8767-f66da6514d11 button.colab-df-generate');\n",
              "      buttonEl.style.display =\n",
              "        google.colab.kernel.accessAllowed ? 'block' : 'none';\n",
              "\n",
              "      buttonEl.onclick = () => {\n",
              "        google.colab.notebook.generateWithVariable('df');\n",
              "      }\n",
              "      })();\n",
              "    </script>\n",
              "  </div>\n",
              "\n",
              "    </div>\n",
              "  </div>\n"
            ],
            "application/vnd.google.colaboratory.intrinsic+json": {
              "type": "dataframe",
              "variable_name": "df",
              "summary": "{\n  \"name\": \"df\",\n  \"rows\": 5482,\n  \"fields\": [\n    {\n      \"column\": \"text\",\n      \"properties\": {\n        \"dtype\": \"string\",\n        \"num_unique_values\": 5473,\n        \"samples\": [\n          \"ladkon mein leadership ki qualities kabhi nahi hoti, woh sirf jhoothe hote hain.\",\n          \"tum jaise bihari ko hum zinda jala dena.\",\n          \"modi ji hamare pm aap kuhub bhasan dete hai kya school me rape ho raha hai aur aap kuch nahi bol rahe hai\"\n        ],\n        \"semantic_type\": \"\",\n        \"description\": \"\"\n      }\n    },\n    {\n      \"column\": \"category\",\n      \"properties\": {\n        \"dtype\": \"category\",\n        \"num_unique_values\": 6,\n        \"samples\": [\n          \"no_category\",\n          \"body_shaming\",\n          \"gender_bias\"\n        ],\n        \"semantic_type\": \"\",\n        \"description\": \"\"\n      }\n    },\n    {\n      \"column\": \"label\",\n      \"properties\": {\n        \"dtype\": \"number\",\n        \"std\": 0,\n        \"min\": 0,\n        \"max\": 1,\n        \"num_unique_values\": 2,\n        \"samples\": [\n          1,\n          0\n        ],\n        \"semantic_type\": \"\",\n        \"description\": \"\"\n      }\n    },\n    {\n      \"column\": \"sub_category\",\n      \"properties\": {\n        \"dtype\": \"category\",\n        \"num_unique_values\": 3,\n        \"samples\": [\n          \"no_sub_category\",\n          \"bias_against_females\"\n        ],\n        \"semantic_type\": \"\",\n        \"description\": \"\"\n      }\n    },\n    {\n      \"column\": \"Tokens\",\n      \"properties\": {\n        \"dtype\": \"string\",\n        \"num_unique_values\": 5473,\n        \"samples\": [\n          \"['ladkon', 'mein', 'leadership', 'ki', 'qualities', 'kabhi', 'nahi', 'hoti', 'woh', 'sirf', 'jhoothe', 'hote', 'hain']\",\n          \"['tum', 'jaise', 'bihari', 'ko', 'hum', 'zinda', 'jala', 'dena']\"\n        ],\n        \"semantic_type\": \"\",\n        \"description\": \"\"\n      }\n    },\n    {\n      \"column\": \"tokens without stopwords\",\n      \"properties\": {\n        \"dtype\": \"string\",\n        \"num_unique_values\": 5449,\n        \"samples\": [\n          \"['punjabi', 'hamesha', 'hawabazi', 'shor', 'sharabe', 'jaane', 'jaate', 'desh', 'nikal']\",\n          \"['congressfor', 'sukanya', 'rape', 'hogawoh', 'rahte', 'pictwittercomagngayf']\"\n        ],\n        \"semantic_type\": \"\",\n        \"description\": \"\"\n      }\n    }\n  ]\n}"
            }
          },
          "metadata": {},
          "execution_count": 32
        }
      ]
    },
    {
      "cell_type": "code",
      "source": [
        "import pandas as pd\n",
        "from sklearn.feature_extraction.text import TfidfVectorizer\n",
        "from sklearn.model_selection import train_test_split\n",
        "\n",
        "# Load the dataset\n",
        "df = pd.read_csv('/content/tokens_without_stopwords.csv')  # Replace with your file name\n",
        "\n",
        "# Ensure the column \"tokens without stopwords\" exists\n",
        "if 'tokens without stopwords' not in df.columns:\n",
        "    raise ValueError(\"The column 'tokens without stopwords' is not found in the dataset.\")\n",
        "\n",
        "# Extract the text and labels\n",
        "texts = df['tokens without stopwords']\n",
        "labels = df['label']  # Assuming 'label' column contains binary labels (0 for non-hate speech, 1 for hate speech)\n",
        "\n",
        "# TF-IDF Vectorization\n",
        "vectorizer = TfidfVectorizer(max_features=5000)  # Use max_features to limit dimensionality\n",
        "X = vectorizer.fit_transform(texts)\n",
        "y = labels\n",
        "\n",
        "# Train-Test Split\n",
        "X_train, X_test, y_train, y_test = train_test_split(X, y, test_size=0.2, random_state=42)\n",
        "\n",
        "# Output feature matrix dimensions\n",
        "print(f\"Shape of TF-IDF feature matrix: {X.shape}\")\n",
        "print(f\"Number of labels: {len(y)}\")\n",
        "\n",
        "# Proceed with ML model training on X_train, y_train and evaluate using X_test, y_test\n",
        "\n"
      ],
      "metadata": {
        "colab": {
          "base_uri": "https://localhost:8080/"
        },
        "id": "5ZIYn6O9bcEN",
        "outputId": "d836e28d-5a15-4f49-c076-c9937ed43e3a"
      },
      "execution_count": 12,
      "outputs": [
        {
          "output_type": "stream",
          "name": "stdout",
          "text": [
            "Shape of TF-IDF feature matrix: (5482, 5000)\n",
            "Number of labels: 5482\n"
          ]
        }
      ]
    },
    {
      "cell_type": "markdown",
      "source": [
        "Logistic Regression"
      ],
      "metadata": {
        "id": "plJFYqPOhHA-"
      }
    },
    {
      "cell_type": "code",
      "source": [
        "from sklearn.model_selection import train_test_split\n",
        "\n",
        "# Split the data into training and testing sets\n",
        "X_train, X_test, y_train, y_test = train_test_split(X, y, test_size=0.2, random_state=42, stratify=y)\n",
        "\n",
        "# Print the shapes of the resulting sets\n",
        "print(\"Shape of X_train:\", X_train.shape)\n",
        "print(\"Shape of X_test:\", X_test.shape)\n",
        "print(\"Shape of y_train:\", y_train.shape)\n",
        "print(\"Shape of y_test:\", y_test.shape)"
      ],
      "metadata": {
        "colab": {
          "base_uri": "https://localhost:8080/"
        },
        "id": "ovEpzZj_ha3q",
        "outputId": "a043e884-492c-457f-9db8-f1b0a89f92be"
      },
      "execution_count": 14,
      "outputs": [
        {
          "output_type": "stream",
          "name": "stdout",
          "text": [
            "Shape of X_train: (4385, 5000)\n",
            "Shape of X_test: (1097, 5000)\n",
            "Shape of y_train: (4385,)\n",
            "Shape of y_test: (1097,)\n"
          ]
        }
      ]
    },
    {
      "cell_type": "code",
      "source": [
        "from sklearn.linear_model import LogisticRegression\n",
        "from sklearn.metrics import accuracy_score, classification_report\n",
        "\n",
        "# Initialize the Logistic Regression model\n",
        "logreg = LogisticRegression(max_iter=1000)\n",
        "\n",
        "# Train the model\n",
        "logreg.fit(X_train, y_train)\n",
        "\n",
        "# Predict the labels on the test set\n",
        "y_pred = logreg.predict(X_test)\n",
        "\n",
        "# Evaluate the model\n",
        "accuracy = accuracy_score(y_test, y_pred)\n",
        "print(f'Accuracy: {accuracy * 100:.2f}%')\n",
        "\n",
        "# Additional metrics like precision, recall, F1-score\n",
        "print(\"\\nClassification Report:\")\n",
        "print(classification_report(y_test, y_pred))\n"
      ],
      "metadata": {
        "colab": {
          "base_uri": "https://localhost:8080/"
        },
        "id": "aMi-zjNchict",
        "outputId": "f6be340b-30ec-4367-953f-4309b78afe46"
      },
      "execution_count": 15,
      "outputs": [
        {
          "output_type": "stream",
          "name": "stdout",
          "text": [
            "Accuracy: 100.00%\n",
            "\n",
            "Classification Report:\n",
            "              precision    recall  f1-score   support\n",
            "\n",
            "           0       1.00      1.00      1.00       591\n",
            "           1       1.00      1.00      1.00       506\n",
            "\n",
            "    accuracy                           1.00      1097\n",
            "   macro avg       1.00      1.00      1.00      1097\n",
            "weighted avg       1.00      1.00      1.00      1097\n",
            "\n"
          ]
        }
      ]
    },
    {
      "cell_type": "code",
      "source": [
        "from sklearn.svm import SVC\n",
        "\n",
        "# Initialize the SVM model\n",
        "svm = SVC(kernel='linear')\n",
        "\n",
        "# Train the model\n",
        "svm.fit(X_train, y_train)\n",
        "\n",
        "# Predict the labels on the test set\n",
        "y_pred_svm = svm.predict(X_test)\n",
        "\n",
        "# Evaluate the model\n",
        "accuracy_svm = accuracy_score(y_test, y_pred_svm)\n",
        "print(f'Accuracy (SVM): {accuracy_svm * 100:.2f}%')\n",
        "\n",
        "# Additional metrics like precision, recall, F1-score\n",
        "print(\"\\nClassification Report (SVM):\")\n",
        "print(classification_report(y_test, y_pred_svm))\n"
      ],
      "metadata": {
        "colab": {
          "base_uri": "https://localhost:8080/"
        },
        "id": "ORksZ7Mthshd",
        "outputId": "a878b82e-a4d5-42e4-eb27-766e1c11a501"
      },
      "execution_count": 16,
      "outputs": [
        {
          "output_type": "stream",
          "name": "stdout",
          "text": [
            "Accuracy (SVM): 99.91%\n",
            "\n",
            "Classification Report (SVM):\n",
            "              precision    recall  f1-score   support\n",
            "\n",
            "           0       1.00      1.00      1.00       591\n",
            "           1       1.00      1.00      1.00       506\n",
            "\n",
            "    accuracy                           1.00      1097\n",
            "   macro avg       1.00      1.00      1.00      1097\n",
            "weighted avg       1.00      1.00      1.00      1097\n",
            "\n"
          ]
        }
      ]
    },
    {
      "cell_type": "code",
      "source": [
        "from sklearn.ensemble import RandomForestClassifier\n",
        "\n",
        "# Initialize the Random Forest model\n",
        "rf = RandomForestClassifier(n_estimators=100, random_state=42)\n",
        "\n",
        "# Train the model\n",
        "rf.fit(X_train, y_train)\n",
        "\n",
        "# Predict the labels on the test set\n",
        "y_pred_rf = rf.predict(X_test)\n",
        "\n",
        "# Evaluate the model\n",
        "accuracy_rf = accuracy_score(y_test, y_pred_rf)\n",
        "print(f'Accuracy (Random Forest): {accuracy_rf * 100:.2f}%')\n",
        "\n",
        "# Additional metrics like precision, recall, F1-score\n",
        "print(\"\\nClassification Report (Random Forest):\")\n",
        "print(classification_report(y_test, y_pred_rf))\n"
      ],
      "metadata": {
        "colab": {
          "base_uri": "https://localhost:8080/"
        },
        "id": "Qtd39QapiPJH",
        "outputId": "d4e9978b-e488-4b63-85ca-adb9685c118c"
      },
      "execution_count": 17,
      "outputs": [
        {
          "output_type": "stream",
          "name": "stdout",
          "text": [
            "Accuracy (Random Forest): 99.36%\n",
            "\n",
            "Classification Report (Random Forest):\n",
            "              precision    recall  f1-score   support\n",
            "\n",
            "           0       1.00      0.99      0.99       591\n",
            "           1       0.99      1.00      0.99       506\n",
            "\n",
            "    accuracy                           0.99      1097\n",
            "   macro avg       0.99      0.99      0.99      1097\n",
            "weighted avg       0.99      0.99      0.99      1097\n",
            "\n"
          ]
        }
      ]
    },
    {
      "cell_type": "code",
      "source": [
        "from sklearn.naive_bayes import MultinomialNB\n",
        "\n",
        "# Initialize the Naive Bayes model\n",
        "nb = MultinomialNB()\n",
        "\n",
        "# Train the model\n",
        "nb.fit(X_train, y_train)\n",
        "\n",
        "# Predict the labels on the test set\n",
        "y_pred_nb = nb.predict(X_test)\n",
        "\n",
        "# Evaluate the model\n",
        "accuracy_nb = accuracy_score(y_test, y_pred_nb)\n",
        "print(f'Accuracy (Naive Bayes): {accuracy_nb * 100:.2f}%')\n",
        "\n",
        "# Additional metrics like precision, recall, F1-score\n",
        "print(\"\\nClassification Report (Naive Bayes):\")\n",
        "print(classification_report(y_test, y_pred_nb))\n"
      ],
      "metadata": {
        "colab": {
          "base_uri": "https://localhost:8080/"
        },
        "id": "JhSE6h02iTVU",
        "outputId": "9dcb399d-126b-42ff-ba5a-fb22b49a5ed9"
      },
      "execution_count": 18,
      "outputs": [
        {
          "output_type": "stream",
          "name": "stdout",
          "text": [
            "Accuracy (Naive Bayes): 99.54%\n",
            "\n",
            "Classification Report (Naive Bayes):\n",
            "              precision    recall  f1-score   support\n",
            "\n",
            "           0       1.00      0.99      1.00       591\n",
            "           1       0.99      1.00      1.00       506\n",
            "\n",
            "    accuracy                           1.00      1097\n",
            "   macro avg       1.00      1.00      1.00      1097\n",
            "weighted avg       1.00      1.00      1.00      1097\n",
            "\n"
          ]
        }
      ]
    },
    {
      "cell_type": "code",
      "source": [
        "from sklearn.neighbors import KNeighborsClassifier\n",
        "\n",
        "# Initialize the KNN model\n",
        "knn = KNeighborsClassifier(n_neighbors=5)\n",
        "\n",
        "# Train the model\n",
        "knn.fit(X_train, y_train)\n",
        "\n",
        "# Predict the labels on the test set\n",
        "y_pred_knn = knn.predict(X_test)\n",
        "\n",
        "# Evaluate the model\n",
        "accuracy_knn = accuracy_score(y_test, y_pred_knn)\n",
        "print(f'Accuracy (KNN): {accuracy_knn * 100:.2f}%')\n",
        "\n",
        "# Additional metrics like precision, recall, F1-score\n",
        "print(\"\\nClassification Report (KNN):\")\n",
        "print(classification_report(y_test, y_pred_knn))\n"
      ],
      "metadata": {
        "colab": {
          "base_uri": "https://localhost:8080/"
        },
        "id": "Zgo5v2OYiZ0j",
        "outputId": "f29eb18f-5d3f-4741-e1a8-00cffb10dc33"
      },
      "execution_count": 19,
      "outputs": [
        {
          "output_type": "stream",
          "name": "stdout",
          "text": [
            "Accuracy (KNN): 98.81%\n",
            "\n",
            "Classification Report (KNN):\n",
            "              precision    recall  f1-score   support\n",
            "\n",
            "           0       0.98      1.00      0.99       591\n",
            "           1       1.00      0.98      0.99       506\n",
            "\n",
            "    accuracy                           0.99      1097\n",
            "   macro avg       0.99      0.99      0.99      1097\n",
            "weighted avg       0.99      0.99      0.99      1097\n",
            "\n"
          ]
        }
      ]
    },
    {
      "cell_type": "markdown",
      "source": [
        "### Summary of the Models:\n",
        "\n",
        "1. **Logistic Regression**:  \n",
        "   A simple, interpretable model, but may not handle very complex patterns in data well.\n",
        "\n",
        "2. **SVM (Support Vector Machine)**:  \n",
        "   Good for high-dimensional data (e.g., text data), works well when the data is separable by a hyperplane.\n",
        "\n",
        "3. **Random Forest**:  \n",
        "   An ensemble method that can handle more complex data and is less prone to overfitting than individual models.\n",
        "\n",
        "4. **Naive Bayes**:  \n",
        "   Effective for text classification, especially when features are conditionally independent.\n",
        "\n",
        "5. **KNN (K-Nearest Neighbors)**:  \n",
        "   A simple, instance-based learning algorithm, good when decision boundaries are not linear.\n"
      ],
      "metadata": {
        "id": "ytFIjtini2Yl"
      }
    },
    {
      "cell_type": "code",
      "source": [
        "from sklearn.ensemble import GradientBoostingClassifier\n",
        "\n",
        "# Initialize the Gradient Boosting model\n",
        "gbc = GradientBoostingClassifier(n_estimators=100, learning_rate=0.1, random_state=42)\n",
        "\n",
        "# Train the model\n",
        "gbc.fit(X_train, y_train)\n",
        "\n",
        "# Predict the labels on the test set\n",
        "y_pred_gbc = gbc.predict(X_test)\n",
        "\n",
        "# Evaluate the model\n",
        "accuracy_gbc = accuracy_score(y_test, y_pred_gbc)\n",
        "print(f'Accuracy (Gradient Boosting): {accuracy_gbc * 100:.2f}%')\n",
        "\n",
        "# Additional metrics\n",
        "print(\"\\nClassification Report (Gradient Boosting):\")\n",
        "print(classification_report(y_test, y_pred_gbc))\n"
      ],
      "metadata": {
        "colab": {
          "base_uri": "https://localhost:8080/"
        },
        "id": "8PzHhwIki3Xg",
        "outputId": "e4d09e9c-a819-4f9c-a327-21ff8974acbe"
      },
      "execution_count": 20,
      "outputs": [
        {
          "output_type": "stream",
          "name": "stdout",
          "text": [
            "Accuracy (Gradient Boosting): 95.44%\n",
            "\n",
            "Classification Report (Gradient Boosting):\n",
            "              precision    recall  f1-score   support\n",
            "\n",
            "           0       1.00      0.92      0.96       591\n",
            "           1       0.91      1.00      0.95       506\n",
            "\n",
            "    accuracy                           0.95      1097\n",
            "   macro avg       0.96      0.96      0.95      1097\n",
            "weighted avg       0.96      0.95      0.95      1097\n",
            "\n"
          ]
        }
      ]
    },
    {
      "cell_type": "code",
      "source": [
        "from xgboost import XGBClassifier\n",
        "\n",
        "# Initialize the XGBoost model\n",
        "xgb = XGBClassifier(use_label_encoder=False, eval_metric='logloss')\n",
        "\n",
        "# Train the model\n",
        "xgb.fit(X_train, y_train)\n",
        "\n",
        "# Predict the labels on the test set\n",
        "y_pred_xgb = xgb.predict(X_test)\n",
        "\n",
        "# Evaluate the model\n",
        "accuracy_xgb = accuracy_score(y_test, y_pred_xgb)\n",
        "print(f'Accuracy (XGBoost): {accuracy_xgb * 100:.2f}%')\n",
        "\n",
        "# Additional metrics\n",
        "print(\"\\nClassification Report (XGBoost):\")\n",
        "print(classification_report(y_test, y_pred_xgb))\n"
      ],
      "metadata": {
        "colab": {
          "base_uri": "https://localhost:8080/"
        },
        "id": "kEfP0V0cjFvQ",
        "outputId": "ddc261f0-1966-43f3-b7fa-30f095fcf7e0"
      },
      "execution_count": 21,
      "outputs": [
        {
          "output_type": "stream",
          "name": "stderr",
          "text": [
            "/usr/local/lib/python3.10/dist-packages/xgboost/core.py:158: UserWarning: [19:42:57] WARNING: /workspace/src/learner.cc:740: \n",
            "Parameters: { \"use_label_encoder\" } are not used.\n",
            "\n",
            "  warnings.warn(smsg, UserWarning)\n"
          ]
        },
        {
          "output_type": "stream",
          "name": "stdout",
          "text": [
            "Accuracy (XGBoost): 98.81%\n",
            "\n",
            "Classification Report (XGBoost):\n",
            "              precision    recall  f1-score   support\n",
            "\n",
            "           0       0.99      0.99      0.99       591\n",
            "           1       0.98      0.99      0.99       506\n",
            "\n",
            "    accuracy                           0.99      1097\n",
            "   macro avg       0.99      0.99      0.99      1097\n",
            "weighted avg       0.99      0.99      0.99      1097\n",
            "\n"
          ]
        }
      ]
    },
    {
      "cell_type": "code",
      "source": [
        "from lightgbm import LGBMClassifier\n",
        "\n",
        "# Initialize the LightGBM model\n",
        "lgbm = LGBMClassifier(random_state=42)\n",
        "\n",
        "# Train the model\n",
        "lgbm.fit(X_train, y_train)\n",
        "\n",
        "# Predict the labels on the test set\n",
        "y_pred_lgbm = lgbm.predict(X_test)\n",
        "\n",
        "# Evaluate the model\n",
        "accuracy_lgbm = accuracy_score(y_test, y_pred_lgbm)\n",
        "print(f'Accuracy (LightGBM): {accuracy_lgbm * 100:.2f}%')\n",
        "\n",
        "# Additional metrics\n",
        "print(\"\\nClassification Report (LightGBM):\")\n",
        "print(classification_report(y_test, y_pred_lgbm))\n"
      ],
      "metadata": {
        "colab": {
          "base_uri": "https://localhost:8080/"
        },
        "id": "5SSP7GC_jJlt",
        "outputId": "2492b5de-bfaf-4a1b-d1c3-c07985f0c875"
      },
      "execution_count": 22,
      "outputs": [
        {
          "output_type": "stream",
          "name": "stderr",
          "text": [
            "/usr/local/lib/python3.10/dist-packages/dask/dataframe/__init__.py:42: FutureWarning: \n",
            "Dask dataframe query planning is disabled because dask-expr is not installed.\n",
            "\n",
            "You can install it with `pip install dask[dataframe]` or `conda install dask`.\n",
            "This will raise in a future version.\n",
            "\n",
            "  warnings.warn(msg, FutureWarning)\n"
          ]
        },
        {
          "output_type": "stream",
          "name": "stdout",
          "text": [
            "[LightGBM] [Info] Number of positive: 2023, number of negative: 2362\n",
            "[LightGBM] [Info] Auto-choosing row-wise multi-threading, the overhead of testing was 0.010988 seconds.\n",
            "You can set `force_row_wise=true` to remove the overhead.\n",
            "And if memory is not enough, you can set `force_col_wise=true`.\n",
            "[LightGBM] [Info] Total Bins 4802\n",
            "[LightGBM] [Info] Number of data points in the train set: 4385, number of used features: 228\n",
            "[LightGBM] [Info] [binary:BoostFromScore]: pavg=0.461345 -> initscore=-0.154927\n",
            "[LightGBM] [Info] Start training from score -0.154927\n",
            "Accuracy (LightGBM): 98.63%\n",
            "\n",
            "Classification Report (LightGBM):\n",
            "              precision    recall  f1-score   support\n",
            "\n",
            "           0       0.99      0.98      0.99       591\n",
            "           1       0.98      0.99      0.99       506\n",
            "\n",
            "    accuracy                           0.99      1097\n",
            "   macro avg       0.99      0.99      0.99      1097\n",
            "weighted avg       0.99      0.99      0.99      1097\n",
            "\n"
          ]
        }
      ]
    },
    {
      "cell_type": "code",
      "source": [
        "from sklearn.ensemble import AdaBoostClassifier\n",
        "\n",
        "# Initialize the AdaBoost model\n",
        "adaboost = AdaBoostClassifier(n_estimators=100, random_state=42)\n",
        "\n",
        "# Train the model\n",
        "adaboost.fit(X_train, y_train)\n",
        "\n",
        "# Predict the labels on the test set\n",
        "y_pred_adaboost = adaboost.predict(X_test)\n",
        "\n",
        "# Evaluate the model\n",
        "accuracy_adaboost = accuracy_score(y_test, y_pred_adaboost)\n",
        "print(f'Accuracy (AdaBoost): {accuracy_adaboost * 100:.2f}%')\n",
        "\n",
        "# Additional metrics\n",
        "print(\"\\nClassification Report (AdaBoost):\")\n",
        "print(classification_report(y_test, y_pred_adaboost))\n"
      ],
      "metadata": {
        "colab": {
          "base_uri": "https://localhost:8080/"
        },
        "id": "x4WkBhoLjPmD",
        "outputId": "34c798f1-fe21-40ea-c3d8-ed8204e7d224"
      },
      "execution_count": 23,
      "outputs": [
        {
          "output_type": "stream",
          "name": "stderr",
          "text": [
            "/usr/local/lib/python3.10/dist-packages/sklearn/ensemble/_weight_boosting.py:527: FutureWarning: The SAMME.R algorithm (the default) is deprecated and will be removed in 1.6. Use the SAMME algorithm to circumvent this warning.\n",
            "  warnings.warn(\n"
          ]
        },
        {
          "output_type": "stream",
          "name": "stdout",
          "text": [
            "Accuracy (AdaBoost): 99.36%\n",
            "\n",
            "Classification Report (AdaBoost):\n",
            "              precision    recall  f1-score   support\n",
            "\n",
            "           0       1.00      0.99      0.99       591\n",
            "           1       0.99      1.00      0.99       506\n",
            "\n",
            "    accuracy                           0.99      1097\n",
            "   macro avg       0.99      0.99      0.99      1097\n",
            "weighted avg       0.99      0.99      0.99      1097\n",
            "\n"
          ]
        }
      ]
    },
    {
      "cell_type": "code",
      "source": [
        "!pip install catboost"
      ],
      "metadata": {
        "colab": {
          "base_uri": "https://localhost:8080/"
        },
        "id": "Kb37X-Adj339",
        "outputId": "a6559ca7-535c-4431-9567-77a785a90427"
      },
      "execution_count": 28,
      "outputs": [
        {
          "output_type": "stream",
          "name": "stdout",
          "text": [
            "Collecting catboost\n",
            "  Downloading catboost-1.2.7-cp310-cp310-manylinux2014_x86_64.whl.metadata (1.2 kB)\n",
            "Requirement already satisfied: graphviz in /usr/local/lib/python3.10/dist-packages (from catboost) (0.20.3)\n",
            "Requirement already satisfied: matplotlib in /usr/local/lib/python3.10/dist-packages (from catboost) (3.8.0)\n",
            "Requirement already satisfied: numpy<2.0,>=1.16.0 in /usr/local/lib/python3.10/dist-packages (from catboost) (1.26.4)\n",
            "Requirement already satisfied: pandas>=0.24 in /usr/local/lib/python3.10/dist-packages (from catboost) (2.2.2)\n",
            "Requirement already satisfied: scipy in /usr/local/lib/python3.10/dist-packages (from catboost) (1.13.1)\n",
            "Requirement already satisfied: plotly in /usr/local/lib/python3.10/dist-packages (from catboost) (5.24.1)\n",
            "Requirement already satisfied: six in /usr/local/lib/python3.10/dist-packages (from catboost) (1.16.0)\n",
            "Requirement already satisfied: python-dateutil>=2.8.2 in /usr/local/lib/python3.10/dist-packages (from pandas>=0.24->catboost) (2.8.2)\n",
            "Requirement already satisfied: pytz>=2020.1 in /usr/local/lib/python3.10/dist-packages (from pandas>=0.24->catboost) (2024.2)\n",
            "Requirement already satisfied: tzdata>=2022.7 in /usr/local/lib/python3.10/dist-packages (from pandas>=0.24->catboost) (2024.2)\n",
            "Requirement already satisfied: contourpy>=1.0.1 in /usr/local/lib/python3.10/dist-packages (from matplotlib->catboost) (1.3.1)\n",
            "Requirement already satisfied: cycler>=0.10 in /usr/local/lib/python3.10/dist-packages (from matplotlib->catboost) (0.12.1)\n",
            "Requirement already satisfied: fonttools>=4.22.0 in /usr/local/lib/python3.10/dist-packages (from matplotlib->catboost) (4.55.0)\n",
            "Requirement already satisfied: kiwisolver>=1.0.1 in /usr/local/lib/python3.10/dist-packages (from matplotlib->catboost) (1.4.7)\n",
            "Requirement already satisfied: packaging>=20.0 in /usr/local/lib/python3.10/dist-packages (from matplotlib->catboost) (24.2)\n",
            "Requirement already satisfied: pillow>=6.2.0 in /usr/local/lib/python3.10/dist-packages (from matplotlib->catboost) (11.0.0)\n",
            "Requirement already satisfied: pyparsing>=2.3.1 in /usr/local/lib/python3.10/dist-packages (from matplotlib->catboost) (3.2.0)\n",
            "Requirement already satisfied: tenacity>=6.2.0 in /usr/local/lib/python3.10/dist-packages (from plotly->catboost) (9.0.0)\n",
            "Downloading catboost-1.2.7-cp310-cp310-manylinux2014_x86_64.whl (98.7 MB)\n",
            "\u001b[2K   \u001b[90m━━━━━━━━━━━━━━━━━━━━━━━━━━━━━━━━━━━━━━━━\u001b[0m \u001b[32m98.7/98.7 MB\u001b[0m \u001b[31m7.6 MB/s\u001b[0m eta \u001b[36m0:00:00\u001b[0m\n",
            "\u001b[?25hInstalling collected packages: catboost\n",
            "Successfully installed catboost-1.2.7\n"
          ]
        }
      ]
    },
    {
      "cell_type": "code",
      "source": [
        "from catboost import CatBoostClassifier\n",
        "\n",
        "# Initialize the CatBoost model\n",
        "catboost = CatBoostClassifier(verbose=0, random_state=42)\n",
        "\n",
        "# Train the model\n",
        "catboost.fit(X_train, y_train)\n",
        "\n",
        "# Predict the labels on the test set\n",
        "y_pred_catboost = catboost.predict(X_test)\n",
        "\n",
        "# Evaluate the model\n",
        "accuracy_catboost = accuracy_score(y_test, y_pred_catboost)\n",
        "print(f'Accuracy (CatBoost): {accuracy_catboost * 100:.2f}%')\n",
        "\n",
        "# Additional metrics\n",
        "print(\"\\nClassification Report (CatBoost):\")\n",
        "print(classification_report(y_test, y_pred_catboost))\n"
      ],
      "metadata": {
        "colab": {
          "base_uri": "https://localhost:8080/"
        },
        "id": "FwEc-ANKjTSg",
        "outputId": "79834d51-9b60-41ff-ba6e-efdc7e1df3ab"
      },
      "execution_count": 29,
      "outputs": [
        {
          "output_type": "stream",
          "name": "stdout",
          "text": [
            "Accuracy (CatBoost): 95.72%\n",
            "\n",
            "Classification Report (CatBoost):\n",
            "              precision    recall  f1-score   support\n",
            "\n",
            "           0       1.00      0.92      0.96       591\n",
            "           1       0.92      1.00      0.96       506\n",
            "\n",
            "    accuracy                           0.96      1097\n",
            "   macro avg       0.96      0.96      0.96      1097\n",
            "weighted avg       0.96      0.96      0.96      1097\n",
            "\n"
          ]
        }
      ]
    },
    {
      "cell_type": "code",
      "source": [
        "from sklearn.tree import DecisionTreeClassifier\n",
        "\n",
        "# Initialize the Decision Tree model\n",
        "dt = DecisionTreeClassifier(random_state=42)\n",
        "\n",
        "# Train the model\n",
        "dt.fit(X_train, y_train)\n",
        "\n",
        "# Predict the labels on the test set\n",
        "y_pred_dt = dt.predict(X_test)\n",
        "\n",
        "# Evaluate the model\n",
        "accuracy_dt = accuracy_score(y_test, y_pred_dt)\n",
        "print(f'Accuracy (Decision Tree): {accuracy_dt * 100:.2f}%')\n",
        "\n",
        "# Additional metrics\n",
        "print(\"\\nClassification Report (Decision Tree):\")\n",
        "print(classification_report(y_test, y_pred_dt))\n"
      ],
      "metadata": {
        "colab": {
          "base_uri": "https://localhost:8080/"
        },
        "id": "iggxle50ja0F",
        "outputId": "9e58a361-513b-4833-815c-dccb7037f25d"
      },
      "execution_count": 25,
      "outputs": [
        {
          "output_type": "stream",
          "name": "stdout",
          "text": [
            "Accuracy (Decision Tree): 98.91%\n",
            "\n",
            "Classification Report (Decision Tree):\n",
            "              precision    recall  f1-score   support\n",
            "\n",
            "           0       0.99      0.99      0.99       591\n",
            "           1       0.99      0.99      0.99       506\n",
            "\n",
            "    accuracy                           0.99      1097\n",
            "   macro avg       0.99      0.99      0.99      1097\n",
            "weighted avg       0.99      0.99      0.99      1097\n",
            "\n"
          ]
        }
      ]
    },
    {
      "cell_type": "code",
      "source": [
        "from sklearn.ensemble import BaggingClassifier\n",
        "\n",
        "# Initialize the Bagging Classifier\n",
        "bagging = BaggingClassifier(n_estimators=50, random_state=42)\n",
        "\n",
        "# Train the model\n",
        "bagging.fit(X_train, y_train)\n",
        "\n",
        "# Predict the labels on the test set\n",
        "y_pred_bagging = bagging.predict(X_test)\n",
        "\n",
        "# Evaluate the model\n",
        "accuracy_bagging = accuracy_score(y_test, y_pred_bagging)\n",
        "print(f'Accuracy (Bagging): {accuracy_bagging * 100:.2f}%')\n",
        "\n",
        "# Additional metrics\n",
        "print(\"\\nClassification Report (Bagging):\")\n",
        "print(classification_report(y_test, y_pred_bagging))\n"
      ],
      "metadata": {
        "colab": {
          "base_uri": "https://localhost:8080/"
        },
        "id": "ENkIekG-jdZW",
        "outputId": "d92a7108-678c-4195-bf1f-94521a2a21f1"
      },
      "execution_count": 26,
      "outputs": [
        {
          "output_type": "stream",
          "name": "stdout",
          "text": [
            "Accuracy (Bagging): 98.81%\n",
            "\n",
            "Classification Report (Bagging):\n",
            "              precision    recall  f1-score   support\n",
            "\n",
            "           0       0.99      0.98      0.99       591\n",
            "           1       0.98      0.99      0.99       506\n",
            "\n",
            "    accuracy                           0.99      1097\n",
            "   macro avg       0.99      0.99      0.99      1097\n",
            "weighted avg       0.99      0.99      0.99      1097\n",
            "\n"
          ]
        }
      ]
    },
    {
      "cell_type": "code",
      "source": [
        "from sklearn.neural_network import MLPClassifier\n",
        "\n",
        "# Initialize the MLP model\n",
        "mlp = MLPClassifier(hidden_layer_sizes=(100,), max_iter=300, random_state=42)\n",
        "\n",
        "# Train the model\n",
        "mlp.fit(X_train, y_train)\n",
        "\n",
        "# Predict the labels on the test set\n",
        "y_pred_mlp = mlp.predict(X_test)\n",
        "\n",
        "# Evaluate the model\n",
        "accuracy_mlp = accuracy_score(y_test, y_pred_mlp)\n",
        "print(f'Accuracy (MLP): {accuracy_mlp * 100:.2f}%')\n",
        "\n",
        "# Additional metrics\n",
        "print(\"\\nClassification Report (MLP):\")\n",
        "print(classification_report(y_test, y_pred_mlp))\n"
      ],
      "metadata": {
        "colab": {
          "base_uri": "https://localhost:8080/"
        },
        "id": "BSJCFxqwjlXp",
        "outputId": "e2f0a3f8-59d3-41b9-c9fc-c4f77ca239f5"
      },
      "execution_count": 31,
      "outputs": [
        {
          "output_type": "stream",
          "name": "stdout",
          "text": [
            "Accuracy (MLP): 99.91%\n",
            "\n",
            "Classification Report (MLP):\n",
            "              precision    recall  f1-score   support\n",
            "\n",
            "           0       1.00      1.00      1.00       591\n",
            "           1       1.00      1.00      1.00       506\n",
            "\n",
            "    accuracy                           1.00      1097\n",
            "   macro avg       1.00      1.00      1.00      1097\n",
            "weighted avg       1.00      1.00      1.00      1097\n",
            "\n"
          ]
        }
      ]
    },
    {
      "cell_type": "markdown",
      "source": [
        "### Summary of Additional Models:\n",
        "\n",
        "1. **Gradient Boosting, XGBoost, LightGBM, CatBoost**:  \n",
        "   These ensemble methods typically outperform simpler models when tuned properly.\n",
        "\n",
        "2. **AdaBoost**:  \n",
        "   A fast and efficient model for moderately complex data.\n",
        "\n",
        "3. **Decision Tree**:  \n",
        "   Simple and interpretable, but prone to overfitting without pruning.\n",
        "\n",
        "4. **Bagging Classifier**:  \n",
        "   Helps reduce variance by combining predictions from multiple models.\n",
        "\n",
        "5. **MLP (Neural Network)**:  \n",
        "   Useful for learning non-linear relationships but requires more data and tuning.\n"
      ],
      "metadata": {
        "id": "ejhcBqARjuJ4"
      }
    }
  ]
}