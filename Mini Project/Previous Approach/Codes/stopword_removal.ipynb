{
  "nbformat": 4,
  "nbformat_minor": 0,
  "metadata": {
    "colab": {
      "provenance": []
    },
    "kernelspec": {
      "name": "python3",
      "display_name": "Python 3"
    },
    "language_info": {
      "name": "python"
    }
  },
  "cells": [
    {
      "cell_type": "code",
      "source": [
        "import pandas as pd\n",
        "\n",
        "# Load the dataset\n",
        "input_file = '/content/tokenized_hate_speech.csv'  # Replace with your CSV file name\n",
        "df = pd.read_csv(input_file)\n",
        "\n",
        "# Load stopwords\n",
        "with open('hinglish_stopwords.txt', 'r') as f:\n",
        "    stopwords = set(f.read().splitlines())\n",
        "\n",
        "# Remove stopwords from the 'token' column\n",
        "df['tokens without stopwords'] = df['Tokens'].apply(lambda tokens: [word for word in eval(tokens) if word.lower() not in stopwords])\n",
        "\n",
        "# Save the result back to a new CSV file\n",
        "output_file = 'tokens_without_stopwords.csv'\n",
        "df.to_csv(output_file, index=False)\n",
        "\n",
        "print(f\"Stopword removal complete. Output saved to {output_file}.\")\n"
      ],
      "metadata": {
        "colab": {
          "base_uri": "https://localhost:8080/"
        },
        "id": "zcAR21UP8PBF",
        "outputId": "0f00922b-9616-4fa2-a156-370ea8ae9bcc"
      },
      "execution_count": 12,
      "outputs": [
        {
          "output_type": "stream",
          "name": "stdout",
          "text": [
            "Stopword removal complete. Output saved to tokens_without_stopwords.csv.\n"
          ]
        }
      ]
    }
  ]
}